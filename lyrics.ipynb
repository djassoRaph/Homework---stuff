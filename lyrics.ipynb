{
 "cells": [
  {
   "cell_type": "code",
   "execution_count": 1,
   "metadata": {},
   "outputs": [
    {
     "name": "stderr",
     "output_type": "stream",
     "text": [
      "D:\\Users\\Admin\\Anaconda3\\lib\\site-packages\\gensim-3.4.0-py3.6-win-amd64.egg\\gensim\\utils.py:1197: UserWarning: detected Windows; aliasing chunkize to chunkize_serial\n",
      "  warnings.warn(\"detected Windows; aliasing chunkize to chunkize_serial\")\n"
     ]
    }
   ],
   "source": [
    "from sklearn.model_selection import train_test_split\n",
    "from sklearn.linear_model import LogisticRegression\n",
    "from sklearn.svm import SVC\n",
    "from sklearn.ensemble import RandomForestClassifier\n",
    "from sklearn.model_selection import GridSearchCV\n",
    "from sklearn.feature_selection import SelectFromModel\n",
    "from sklearn.feature_selection import RFE\n",
    "from sklearn.feature_selection import SelectKBest\n",
    "from sklearn.metrics import accuracy_score\n",
    "from sklearn.feature_extraction.text import CountVectorizer\n",
    "from sklearn.metrics import confusion_matrix, classification_report\n",
    "from sklearn.feature_extraction.text import TfidfVectorizer\n",
    "from sklearn.preprocessing import MultiLabelBinarizer\n",
    "from sklearn.preprocessing import StandardScaler\n",
    "from gensim.models import Doc2Vec"
   ]
  },
  {
   "cell_type": "markdown",
   "metadata": {},
   "source": [
    "Lyrics classifier. Trying to get the mood out of the song. \n",
    "\n",
    "Import the MasterSong.json file first..."
   ]
  },
  {
   "cell_type": "code",
   "execution_count": 2,
   "metadata": {},
   "outputs": [],
   "source": [
    "import pandas as pd\n",
    "import numpy as np"
   ]
  },
  {
   "cell_type": "code",
   "execution_count": 3,
   "metadata": {},
   "outputs": [],
   "source": [
    "songs_df = pd.read_json('MasterSongList.json')"
   ]
  },
  {
   "cell_type": "code",
   "execution_count": 4,
   "metadata": {},
   "outputs": [
    {
     "data": {
      "text/html": [
       "<div>\n",
       "<style scoped>\n",
       "    .dataframe tbody tr th:only-of-type {\n",
       "        vertical-align: middle;\n",
       "    }\n",
       "\n",
       "    .dataframe tbody tr th {\n",
       "        vertical-align: top;\n",
       "    }\n",
       "\n",
       "    .dataframe thead th {\n",
       "        text-align: right;\n",
       "    }\n",
       "</style>\n",
       "<table border=\"1\" class=\"dataframe\">\n",
       "  <thead>\n",
       "    <tr style=\"text-align: right;\">\n",
       "      <th></th>\n",
       "      <th>lyrics_features</th>\n",
       "      <th>moods</th>\n",
       "    </tr>\n",
       "  </thead>\n",
       "  <tbody>\n",
       "    <tr>\n",
       "      <th>0</th>\n",
       "      <td>[oppa, gangnam, style, gangnam, style, najeneu...</td>\n",
       "      <td>[energetic, motivational]</td>\n",
       "    </tr>\n",
       "    <tr>\n",
       "      <th>1</th>\n",
       "      <td>[lately, i, ve, been, i, ve, been, losing, sle...</td>\n",
       "      <td>[happy]</td>\n",
       "    </tr>\n",
       "    <tr>\n",
       "      <th>2</th>\n",
       "      <td>[party, rock, yeah, woo, let, s, go, party, ro...</td>\n",
       "      <td>[happy, celebratory, rowdy]</td>\n",
       "    </tr>\n",
       "    <tr>\n",
       "      <th>3</th>\n",
       "      <td>[alagamun, lan, weh, wakun, heya, hanun, gon, ...</td>\n",
       "      <td>[happy, energetic, celebratory]</td>\n",
       "    </tr>\n",
       "    <tr>\n",
       "      <th>4</th>\n",
       "      <td>[j, lo, the, other, side, out, my, mine, it, s...</td>\n",
       "      <td>[energetic]</td>\n",
       "    </tr>\n",
       "  </tbody>\n",
       "</table>\n",
       "</div>"
      ],
      "text/plain": [
       "                                     lyrics_features  \\\n",
       "0  [oppa, gangnam, style, gangnam, style, najeneu...   \n",
       "1  [lately, i, ve, been, i, ve, been, losing, sle...   \n",
       "2  [party, rock, yeah, woo, let, s, go, party, ro...   \n",
       "3  [alagamun, lan, weh, wakun, heya, hanun, gon, ...   \n",
       "4  [j, lo, the, other, side, out, my, mine, it, s...   \n",
       "\n",
       "                             moods  \n",
       "0        [energetic, motivational]  \n",
       "1                          [happy]  \n",
       "2      [happy, celebratory, rowdy]  \n",
       "3  [happy, energetic, celebratory]  \n",
       "4                      [energetic]  "
      ]
     },
     "execution_count": 4,
     "metadata": {},
     "output_type": "execute_result"
    }
   ],
   "source": [
    "songs_lf_m = ['lyrics_features', 'moods']\n",
    "lyrics_df = songs_df.copy()\n",
    "lyrics_df = lyrics_df[songs_lf_m]\n",
    "lyrics_df.head()"
   ]
  },
  {
   "cell_type": "code",
   "execution_count": 5,
   "metadata": {},
   "outputs": [],
   "source": [
    "lyrics_df['lyrics_features'] = lyrics_df['lyrics_features'].apply(' '.join)\n",
    "lyrics_df['moods'] = lyrics_df['moods'].apply(', '.join)"
   ]
  },
  {
   "cell_type": "code",
   "execution_count": 6,
   "metadata": {},
   "outputs": [
    {
     "data": {
      "text/html": [
       "<div>\n",
       "<style scoped>\n",
       "    .dataframe tbody tr th:only-of-type {\n",
       "        vertical-align: middle;\n",
       "    }\n",
       "\n",
       "    .dataframe tbody tr th {\n",
       "        vertical-align: top;\n",
       "    }\n",
       "\n",
       "    .dataframe thead th {\n",
       "        text-align: right;\n",
       "    }\n",
       "</style>\n",
       "<table border=\"1\" class=\"dataframe\">\n",
       "  <thead>\n",
       "    <tr style=\"text-align: right;\">\n",
       "      <th></th>\n",
       "      <th>lyrics_features</th>\n",
       "      <th>moods</th>\n",
       "    </tr>\n",
       "  </thead>\n",
       "  <tbody>\n",
       "    <tr>\n",
       "      <th>0</th>\n",
       "      <td>oppa gangnam style gangnam style najeneun ttas...</td>\n",
       "      <td>energetic, motivational</td>\n",
       "    </tr>\n",
       "    <tr>\n",
       "      <th>1</th>\n",
       "      <td>lately i ve been i ve been losing sleep dreami...</td>\n",
       "      <td>happy</td>\n",
       "    </tr>\n",
       "    <tr>\n",
       "      <th>2</th>\n",
       "      <td>party rock yeah woo let s go party rock is in ...</td>\n",
       "      <td>happy, celebratory, rowdy</td>\n",
       "    </tr>\n",
       "    <tr>\n",
       "      <th>3</th>\n",
       "      <td>alagamun lan weh wakun heya hanun gon alagamun...</td>\n",
       "      <td>happy, energetic, celebratory</td>\n",
       "    </tr>\n",
       "    <tr>\n",
       "      <th>4</th>\n",
       "      <td>j lo the other side out my mine it s a new gen...</td>\n",
       "      <td>energetic</td>\n",
       "    </tr>\n",
       "  </tbody>\n",
       "</table>\n",
       "</div>"
      ],
      "text/plain": [
       "                                     lyrics_features  \\\n",
       "0  oppa gangnam style gangnam style najeneun ttas...   \n",
       "1  lately i ve been i ve been losing sleep dreami...   \n",
       "2  party rock yeah woo let s go party rock is in ...   \n",
       "3  alagamun lan weh wakun heya hanun gon alagamun...   \n",
       "4  j lo the other side out my mine it s a new gen...   \n",
       "\n",
       "                           moods  \n",
       "0        energetic, motivational  \n",
       "1                          happy  \n",
       "2      happy, celebratory, rowdy  \n",
       "3  happy, energetic, celebratory  \n",
       "4                      energetic  "
      ]
     },
     "execution_count": 6,
     "metadata": {},
     "output_type": "execute_result"
    }
   ],
   "source": [
    "lyrics_df.head()"
   ]
  },
  {
   "cell_type": "code",
   "execution_count": 7,
   "metadata": {},
   "outputs": [],
   "source": [
    "#NaN songs.\n",
    "lyrics_df['lyrics_features'].replace('', np.nan, inplace=True)"
   ]
  },
  {
   "cell_type": "code",
   "execution_count": 8,
   "metadata": {},
   "outputs": [
    {
     "data": {
      "text/plain": [
       "(36733, 2)"
      ]
     },
     "execution_count": 8,
     "metadata": {},
     "output_type": "execute_result"
    }
   ],
   "source": [
    "lyrics_df.shape"
   ]
  },
  {
   "cell_type": "code",
   "execution_count": 9,
   "metadata": {},
   "outputs": [],
   "source": [
    "moodsframe =songs_df['moods']"
   ]
  },
  {
   "cell_type": "code",
   "execution_count": 10,
   "metadata": {},
   "outputs": [],
   "source": [
    "lyrics_df.dropna(subset=['lyrics_features'], inplace=True)"
   ]
  },
  {
   "cell_type": "code",
   "execution_count": 11,
   "metadata": {},
   "outputs": [
    {
     "data": {
      "text/plain": [
       "(20931, 2)"
      ]
     },
     "execution_count": 11,
     "metadata": {},
     "output_type": "execute_result"
    }
   ],
   "source": [
    "lyrics_df.shape"
   ]
  },
  {
   "cell_type": "code",
   "execution_count": 12,
   "metadata": {},
   "outputs": [
    {
     "data": {
      "text/plain": [
       "(20931, 2)"
      ]
     },
     "execution_count": 12,
     "metadata": {},
     "output_type": "execute_result"
    }
   ],
   "source": [
    "lyrics_df = lyrics_df[lyrics_df.astype(str)['lyrics_features'] != '[]']\n",
    "lyrics_df.dropna(subset=['lyrics_features'], inplace=True)\n",
    "lyrics_df.shape"
   ]
  },
  {
   "cell_type": "code",
   "execution_count": 13,
   "metadata": {},
   "outputs": [
    {
     "data": {
      "text/html": [
       "<div>\n",
       "<style scoped>\n",
       "    .dataframe tbody tr th:only-of-type {\n",
       "        vertical-align: middle;\n",
       "    }\n",
       "\n",
       "    .dataframe tbody tr th {\n",
       "        vertical-align: top;\n",
       "    }\n",
       "\n",
       "    .dataframe thead th {\n",
       "        text-align: right;\n",
       "    }\n",
       "</style>\n",
       "<table border=\"1\" class=\"dataframe\">\n",
       "  <thead>\n",
       "    <tr style=\"text-align: right;\">\n",
       "      <th></th>\n",
       "      <th>lyrics_features</th>\n",
       "      <th>moods</th>\n",
       "    </tr>\n",
       "  </thead>\n",
       "  <tbody>\n",
       "    <tr>\n",
       "      <th>0</th>\n",
       "      <td>oppa gangnam style gangnam style najeneun ttas...</td>\n",
       "      <td>energetic, motivational</td>\n",
       "    </tr>\n",
       "    <tr>\n",
       "      <th>1</th>\n",
       "      <td>lately i ve been i ve been losing sleep dreami...</td>\n",
       "      <td>happy</td>\n",
       "    </tr>\n",
       "    <tr>\n",
       "      <th>2</th>\n",
       "      <td>party rock yeah woo let s go party rock is in ...</td>\n",
       "      <td>happy, celebratory, rowdy</td>\n",
       "    </tr>\n",
       "    <tr>\n",
       "      <th>3</th>\n",
       "      <td>alagamun lan weh wakun heya hanun gon alagamun...</td>\n",
       "      <td>happy, energetic, celebratory</td>\n",
       "    </tr>\n",
       "    <tr>\n",
       "      <th>4</th>\n",
       "      <td>j lo the other side out my mine it s a new gen...</td>\n",
       "      <td>energetic</td>\n",
       "    </tr>\n",
       "    <tr>\n",
       "      <th>5</th>\n",
       "      <td>today i don t feel like doing anything i just ...</td>\n",
       "      <td>happy, sprightly</td>\n",
       "    </tr>\n",
       "    <tr>\n",
       "      <th>6</th>\n",
       "      <td>there s a fire starting in my heart reaching a...</td>\n",
       "      <td>warm</td>\n",
       "    </tr>\n",
       "    <tr>\n",
       "      <th>7</th>\n",
       "      <td>i threw a wish in the well don t ask me i ll n...</td>\n",
       "      <td>energetic, motivational</td>\n",
       "    </tr>\n",
       "    <tr>\n",
       "      <th>8</th>\n",
       "      <td>now and then i think of when we were together ...</td>\n",
       "      <td>seductive, nocturnal</td>\n",
       "    </tr>\n",
       "    <tr>\n",
       "      <th>9</th>\n",
       "      <td>don t know what for you re turning heads when ...</td>\n",
       "      <td>happy, celebratory</td>\n",
       "    </tr>\n",
       "    <tr>\n",
       "      <th>10</th>\n",
       "      <td>nossa nossa assim você me mata ai se eu te peg...</td>\n",
       "      <td>seductive</td>\n",
       "    </tr>\n",
       "    <tr>\n",
       "      <th>11</th>\n",
       "      <td>shine bright like a diamond shine bright like ...</td>\n",
       "      <td>energetic, celebratory</td>\n",
       "    </tr>\n",
       "    <tr>\n",
       "      <th>12</th>\n",
       "      <td>do you ever feel like a plastic bag drifting t...</td>\n",
       "      <td>happy, celebratory, campy</td>\n",
       "    </tr>\n",
       "    <tr>\n",
       "      <th>13</th>\n",
       "      <td>oh oh woah oh oh oh oh oh oh oh oh caught in a...</td>\n",
       "      <td>energetic, motivational</td>\n",
       "    </tr>\n",
       "    <tr>\n",
       "      <th>14</th>\n",
       "      <td>girl my body don t lie red one i m out of my m...</td>\n",
       "      <td>energetic</td>\n",
       "    </tr>\n",
       "    <tr>\n",
       "      <th>15</th>\n",
       "      <td>ohh ohh ohh ohh ohh oh her eyes her eyes make ...</td>\n",
       "      <td>happy, celebratory</td>\n",
       "    </tr>\n",
       "    <tr>\n",
       "      <th>16</th>\n",
       "      <td>it s our party we can do what we want no drama...</td>\n",
       "      <td>happy</td>\n",
       "    </tr>\n",
       "    <tr>\n",
       "      <th>17</th>\n",
       "      <td>i heard that you re settled down that you foun...</td>\n",
       "      <td>soothing</td>\n",
       "    </tr>\n",
       "    <tr>\n",
       "      <th>18</th>\n",
       "      <td>yellow diamonds in the light and i was standin...</td>\n",
       "      <td>energetic, motivational</td>\n",
       "    </tr>\n",
       "    <tr>\n",
       "      <th>19</th>\n",
       "      <td>this one is for the boys with the boomin syste...</td>\n",
       "      <td>happy, celebratory</td>\n",
       "    </tr>\n",
       "    <tr>\n",
       "      <th>20</th>\n",
       "      <td>bring the action when you hear this in the clu...</td>\n",
       "      <td>happy, energetic, celebratory</td>\n",
       "    </tr>\n",
       "    <tr>\n",
       "      <th>21</th>\n",
       "      <td>me not working hard yea right picture that wit...</td>\n",
       "      <td>energetic, celebratory</td>\n",
       "    </tr>\n",
       "    <tr>\n",
       "      <th>23</th>\n",
       "      <td>i hopped off the plane at lax with my dreams i...</td>\n",
       "      <td>happy, celebratory</td>\n",
       "    </tr>\n",
       "    <tr>\n",
       "      <th>24</th>\n",
       "      <td>oh na na what s my name oh na na what s my nam...</td>\n",
       "      <td>happy, celebratory, campy</td>\n",
       "    </tr>\n",
       "    <tr>\n",
       "      <th>25</th>\n",
       "      <td>when i look into your eyes i can see a love re...</td>\n",
       "      <td>trippy</td>\n",
       "    </tr>\n",
       "    <tr>\n",
       "      <th>26</th>\n",
       "      <td>right from the start you were a thief you stol...</td>\n",
       "      <td>happy</td>\n",
       "    </tr>\n",
       "    <tr>\n",
       "      <th>27</th>\n",
       "      <td>seems like everybody s got a price i wonder ho...</td>\n",
       "      <td>happy, celebratory</td>\n",
       "    </tr>\n",
       "    <tr>\n",
       "      <th>28</th>\n",
       "      <td>you know masivo we run the world vamos cogele ...</td>\n",
       "      <td>energetic</td>\n",
       "    </tr>\n",
       "    <tr>\n",
       "      <th>29</th>\n",
       "      <td>la la la la la la la la la la la la uh yeah la...</td>\n",
       "      <td>happy, celebratory, campy</td>\n",
       "    </tr>\n",
       "    <tr>\n",
       "      <th>30</th>\n",
       "      <td>all the single ladies all the single ladies al...</td>\n",
       "      <td>happy, celebratory</td>\n",
       "    </tr>\n",
       "    <tr>\n",
       "      <th>...</th>\n",
       "      <td>...</td>\n",
       "      <td>...</td>\n",
       "    </tr>\n",
       "    <tr>\n",
       "      <th>36544</th>\n",
       "      <td>let it be beautiful when i sing the last song ...</td>\n",
       "      <td>gloomy, cold</td>\n",
       "    </tr>\n",
       "    <tr>\n",
       "      <th>36545</th>\n",
       "      <td>oh dj taz chorus neka dj taz that s right that...</td>\n",
       "      <td>sexual</td>\n",
       "    </tr>\n",
       "    <tr>\n",
       "      <th>36560</th>\n",
       "      <td>i wanna come back coz i like it like that your...</td>\n",
       "      <td>funky</td>\n",
       "    </tr>\n",
       "    <tr>\n",
       "      <th>36573</th>\n",
       "      <td>ooh ooh ooh ooh i got a good thing i ain t gon...</td>\n",
       "      <td>funky, warm</td>\n",
       "    </tr>\n",
       "    <tr>\n",
       "      <th>36578</th>\n",
       "      <td>a trailer for sale or rent rooms to let fifty ...</td>\n",
       "      <td>sweet, sprightly, lush</td>\n",
       "    </tr>\n",
       "    <tr>\n",
       "      <th>36584</th>\n",
       "      <td>well frankie lee and judas priest they were th...</td>\n",
       "      <td>mellow</td>\n",
       "    </tr>\n",
       "    <tr>\n",
       "      <th>36602</th>\n",
       "      <td>i know how to tamper with time by spending the...</td>\n",
       "      <td>soothing</td>\n",
       "    </tr>\n",
       "    <tr>\n",
       "      <th>36603</th>\n",
       "      <td>he s obtuse up there she s up to something and...</td>\n",
       "      <td>cold, visceral, nocturnal</td>\n",
       "    </tr>\n",
       "    <tr>\n",
       "      <th>36604</th>\n",
       "      <td>i can t light no more of your darkness all my ...</td>\n",
       "      <td>happy</td>\n",
       "    </tr>\n",
       "    <tr>\n",
       "      <th>36606</th>\n",
       "      <td>we re having a party dancing to the music play...</td>\n",
       "      <td>sprightly, raw</td>\n",
       "    </tr>\n",
       "    <tr>\n",
       "      <th>36608</th>\n",
       "      <td>i am a black and white ghost in a black and in...</td>\n",
       "      <td>angsty</td>\n",
       "    </tr>\n",
       "    <tr>\n",
       "      <th>36614</th>\n",
       "      <td>forty days and forty nights since my baby left...</td>\n",
       "      <td>rowdy</td>\n",
       "    </tr>\n",
       "    <tr>\n",
       "      <th>36620</th>\n",
       "      <td>down the street the dogs are barkin and the da...</td>\n",
       "      <td>earthy, introspective, soothing</td>\n",
       "    </tr>\n",
       "    <tr>\n",
       "      <th>36623</th>\n",
       "      <td>love saw it in your eyes sensed it in your smi...</td>\n",
       "      <td>funky</td>\n",
       "    </tr>\n",
       "    <tr>\n",
       "      <th>36624</th>\n",
       "      <td>i m out here a thousand miles from my home wal...</td>\n",
       "      <td>introspective, raw</td>\n",
       "    </tr>\n",
       "    <tr>\n",
       "      <th>36625</th>\n",
       "      <td>if you re traveling in the north country fair ...</td>\n",
       "      <td>introspective, soothing</td>\n",
       "    </tr>\n",
       "    <tr>\n",
       "      <th>36635</th>\n",
       "      <td>charlotte church charlotte church lascia ch io...</td>\n",
       "      <td>lush</td>\n",
       "    </tr>\n",
       "    <tr>\n",
       "      <th>36637</th>\n",
       "      <td>people moving out people moving in why because...</td>\n",
       "      <td>cold</td>\n",
       "    </tr>\n",
       "    <tr>\n",
       "      <th>36649</th>\n",
       "      <td>young money ya dig a millionaire i m a young m...</td>\n",
       "      <td>funky</td>\n",
       "    </tr>\n",
       "    <tr>\n",
       "      <th>36654</th>\n",
       "      <td>oh the time will come up when the winds will s...</td>\n",
       "      <td>introspective, raw</td>\n",
       "    </tr>\n",
       "    <tr>\n",
       "      <th>36663</th>\n",
       "      <td>i m alabama bound i m alabama bound and if the...</td>\n",
       "      <td>introspective, earthy</td>\n",
       "    </tr>\n",
       "    <tr>\n",
       "      <th>36667</th>\n",
       "      <td>well i ve been out here on the ledge now for s...</td>\n",
       "      <td>gloomy, introspective, sad</td>\n",
       "    </tr>\n",
       "    <tr>\n",
       "      <th>36676</th>\n",
       "      <td>tonight i celebrate my love for you it seems t...</td>\n",
       "      <td>lush</td>\n",
       "    </tr>\n",
       "    <tr>\n",
       "      <th>36681</th>\n",
       "      <td>louris olson gunflint music bmi his jaw crawd ...</td>\n",
       "      <td>earthy</td>\n",
       "    </tr>\n",
       "    <tr>\n",
       "      <th>36688</th>\n",
       "      <td>it s been seven hours and fifteen days since u...</td>\n",
       "      <td>funky, lush</td>\n",
       "    </tr>\n",
       "    <tr>\n",
       "      <th>36702</th>\n",
       "      <td>go away from my window leave at your own chose...</td>\n",
       "      <td>mellow</td>\n",
       "    </tr>\n",
       "    <tr>\n",
       "      <th>36716</th>\n",
       "      <td>thinking of you that s all i seem to do when y...</td>\n",
       "      <td>sexual, seductive, nocturnal, lush</td>\n",
       "    </tr>\n",
       "    <tr>\n",
       "      <th>36720</th>\n",
       "      <td>hey hey ladies in the place i m callin out to ...</td>\n",
       "      <td>energetic, visceral</td>\n",
       "    </tr>\n",
       "    <tr>\n",
       "      <th>36723</th>\n",
       "      <td>yes yeah kayne philadelphia freeway y all know...</td>\n",
       "      <td>cocky</td>\n",
       "    </tr>\n",
       "    <tr>\n",
       "      <th>36725</th>\n",
       "      <td>sup up your beer and collect your fags there s...</td>\n",
       "      <td>cocky, rowdy</td>\n",
       "    </tr>\n",
       "  </tbody>\n",
       "</table>\n",
       "<p>20931 rows × 2 columns</p>\n",
       "</div>"
      ],
      "text/plain": [
       "                                         lyrics_features  \\\n",
       "0      oppa gangnam style gangnam style najeneun ttas...   \n",
       "1      lately i ve been i ve been losing sleep dreami...   \n",
       "2      party rock yeah woo let s go party rock is in ...   \n",
       "3      alagamun lan weh wakun heya hanun gon alagamun...   \n",
       "4      j lo the other side out my mine it s a new gen...   \n",
       "5      today i don t feel like doing anything i just ...   \n",
       "6      there s a fire starting in my heart reaching a...   \n",
       "7      i threw a wish in the well don t ask me i ll n...   \n",
       "8      now and then i think of when we were together ...   \n",
       "9      don t know what for you re turning heads when ...   \n",
       "10     nossa nossa assim você me mata ai se eu te peg...   \n",
       "11     shine bright like a diamond shine bright like ...   \n",
       "12     do you ever feel like a plastic bag drifting t...   \n",
       "13     oh oh woah oh oh oh oh oh oh oh oh caught in a...   \n",
       "14     girl my body don t lie red one i m out of my m...   \n",
       "15     ohh ohh ohh ohh ohh oh her eyes her eyes make ...   \n",
       "16     it s our party we can do what we want no drama...   \n",
       "17     i heard that you re settled down that you foun...   \n",
       "18     yellow diamonds in the light and i was standin...   \n",
       "19     this one is for the boys with the boomin syste...   \n",
       "20     bring the action when you hear this in the clu...   \n",
       "21     me not working hard yea right picture that wit...   \n",
       "23     i hopped off the plane at lax with my dreams i...   \n",
       "24     oh na na what s my name oh na na what s my nam...   \n",
       "25     when i look into your eyes i can see a love re...   \n",
       "26     right from the start you were a thief you stol...   \n",
       "27     seems like everybody s got a price i wonder ho...   \n",
       "28     you know masivo we run the world vamos cogele ...   \n",
       "29     la la la la la la la la la la la la uh yeah la...   \n",
       "30     all the single ladies all the single ladies al...   \n",
       "...                                                  ...   \n",
       "36544  let it be beautiful when i sing the last song ...   \n",
       "36545  oh dj taz chorus neka dj taz that s right that...   \n",
       "36560  i wanna come back coz i like it like that your...   \n",
       "36573  ooh ooh ooh ooh i got a good thing i ain t gon...   \n",
       "36578  a trailer for sale or rent rooms to let fifty ...   \n",
       "36584  well frankie lee and judas priest they were th...   \n",
       "36602  i know how to tamper with time by spending the...   \n",
       "36603  he s obtuse up there she s up to something and...   \n",
       "36604  i can t light no more of your darkness all my ...   \n",
       "36606  we re having a party dancing to the music play...   \n",
       "36608  i am a black and white ghost in a black and in...   \n",
       "36614  forty days and forty nights since my baby left...   \n",
       "36620  down the street the dogs are barkin and the da...   \n",
       "36623  love saw it in your eyes sensed it in your smi...   \n",
       "36624  i m out here a thousand miles from my home wal...   \n",
       "36625  if you re traveling in the north country fair ...   \n",
       "36635  charlotte church charlotte church lascia ch io...   \n",
       "36637  people moving out people moving in why because...   \n",
       "36649  young money ya dig a millionaire i m a young m...   \n",
       "36654  oh the time will come up when the winds will s...   \n",
       "36663  i m alabama bound i m alabama bound and if the...   \n",
       "36667  well i ve been out here on the ledge now for s...   \n",
       "36676  tonight i celebrate my love for you it seems t...   \n",
       "36681  louris olson gunflint music bmi his jaw crawd ...   \n",
       "36688  it s been seven hours and fifteen days since u...   \n",
       "36702  go away from my window leave at your own chose...   \n",
       "36716  thinking of you that s all i seem to do when y...   \n",
       "36720  hey hey ladies in the place i m callin out to ...   \n",
       "36723  yes yeah kayne philadelphia freeway y all know...   \n",
       "36725  sup up your beer and collect your fags there s...   \n",
       "\n",
       "                                    moods  \n",
       "0                 energetic, motivational  \n",
       "1                                   happy  \n",
       "2               happy, celebratory, rowdy  \n",
       "3           happy, energetic, celebratory  \n",
       "4                               energetic  \n",
       "5                        happy, sprightly  \n",
       "6                                    warm  \n",
       "7                 energetic, motivational  \n",
       "8                    seductive, nocturnal  \n",
       "9                      happy, celebratory  \n",
       "10                              seductive  \n",
       "11                 energetic, celebratory  \n",
       "12              happy, celebratory, campy  \n",
       "13                energetic, motivational  \n",
       "14                              energetic  \n",
       "15                     happy, celebratory  \n",
       "16                                  happy  \n",
       "17                               soothing  \n",
       "18                energetic, motivational  \n",
       "19                     happy, celebratory  \n",
       "20          happy, energetic, celebratory  \n",
       "21                 energetic, celebratory  \n",
       "23                     happy, celebratory  \n",
       "24              happy, celebratory, campy  \n",
       "25                                 trippy  \n",
       "26                                  happy  \n",
       "27                     happy, celebratory  \n",
       "28                              energetic  \n",
       "29              happy, celebratory, campy  \n",
       "30                     happy, celebratory  \n",
       "...                                   ...  \n",
       "36544                        gloomy, cold  \n",
       "36545                              sexual  \n",
       "36560                               funky  \n",
       "36573                         funky, warm  \n",
       "36578              sweet, sprightly, lush  \n",
       "36584                              mellow  \n",
       "36602                            soothing  \n",
       "36603           cold, visceral, nocturnal  \n",
       "36604                               happy  \n",
       "36606                      sprightly, raw  \n",
       "36608                              angsty  \n",
       "36614                               rowdy  \n",
       "36620     earthy, introspective, soothing  \n",
       "36623                               funky  \n",
       "36624                  introspective, raw  \n",
       "36625             introspective, soothing  \n",
       "36635                                lush  \n",
       "36637                                cold  \n",
       "36649                               funky  \n",
       "36654                  introspective, raw  \n",
       "36663               introspective, earthy  \n",
       "36667          gloomy, introspective, sad  \n",
       "36676                                lush  \n",
       "36681                              earthy  \n",
       "36688                         funky, lush  \n",
       "36702                              mellow  \n",
       "36716  sexual, seductive, nocturnal, lush  \n",
       "36720                 energetic, visceral  \n",
       "36723                               cocky  \n",
       "36725                        cocky, rowdy  \n",
       "\n",
       "[20931 rows x 2 columns]"
      ]
     },
     "execution_count": 13,
     "metadata": {},
     "output_type": "execute_result"
    }
   ],
   "source": [
    "lyrics_df"
   ]
  },
  {
   "cell_type": "code",
   "execution_count": 14,
   "metadata": {},
   "outputs": [],
   "source": [
    "#moods"
   ]
  },
  {
   "cell_type": "code",
   "execution_count": 15,
   "metadata": {},
   "outputs": [],
   "source": [
    "mlb = MultiLabelBinarizer()"
   ]
  },
  {
   "cell_type": "code",
   "execution_count": 16,
   "metadata": {},
   "outputs": [],
   "source": [
    "y_labels = mlb.fit_transform(moodsframe)"
   ]
  },
  {
   "cell_type": "code",
   "execution_count": 17,
   "metadata": {},
   "outputs": [
    {
     "name": "stdout",
     "output_type": "stream",
     "text": [
      "[[0 0 0 ... 0 0 0]\n",
      " [0 0 0 ... 0 0 0]\n",
      " [0 0 0 ... 0 0 0]\n",
      " ...\n",
      " [1 0 0 ... 0 0 0]\n",
      " [0 0 0 ... 0 0 0]\n",
      " [1 0 0 ... 0 0 0]]\n"
     ]
    }
   ],
   "source": [
    "print(y_labels)"
   ]
  },
  {
   "cell_type": "code",
   "execution_count": 18,
   "metadata": {},
   "outputs": [
    {
     "name": "stdout",
     "output_type": "stream",
     "text": [
      "['aggressive' 'angsty' 'atmospheric' 'campy' 'celebratory' 'classy'\n",
      " 'cocky' 'cold' 'earthy' 'energetic' 'funky' 'gloomy' 'happy' 'hypnotic'\n",
      " 'introspective' 'lush' 'mellow' 'motivational' 'nocturnal' 'raw' 'rowdy'\n",
      " 'sad' 'seductive' 'sexual' 'soothing' 'spacey' 'sprightly' 'sweet'\n",
      " 'trashy' 'trippy' 'visceral' 'warm']\n",
      "[0 0 0 0 0 0 0 0 0 1 0 0 0 0 0 0 0 1 0 0 0 0 0 0 0 0 0 0 0 0 0 0]\n",
      "['energetic', 'motivational']\n"
     ]
    }
   ],
   "source": [
    "print(mlb.classes_)\n",
    "\n",
    "print(y_labels[0])\n",
    "\n",
    "print(moodsframe.iloc[0])"
   ]
  },
  {
   "cell_type": "code",
   "execution_count": 19,
   "metadata": {},
   "outputs": [
    {
     "data": {
      "text/plain": [
       "pandas.core.series.Series"
      ]
     },
     "execution_count": 19,
     "metadata": {},
     "output_type": "execute_result"
    }
   ],
   "source": [
    "type(moodsframe)"
   ]
  },
  {
   "cell_type": "markdown",
   "metadata": {},
   "source": [
    "#end moods?wtf"
   ]
  },
  {
   "cell_type": "code",
   "execution_count": 20,
   "metadata": {},
   "outputs": [],
   "source": [
    "#Reindex dataframe\n",
    "lyrics_df.reset_index(drop=True, inplace=True)"
   ]
  },
  {
   "cell_type": "markdown",
   "metadata": {},
   "source": [
    "Lyrics classifier. Trying to get the mood out of the song. \n",
    "First I must clean the data..."
   ]
  },
  {
   "cell_type": "code",
   "execution_count": 21,
   "metadata": {},
   "outputs": [],
   "source": [
    "from string import punctuation\n",
    "from sklearn.feature_extraction.stop_words import ENGLISH_STOP_WORDS\n",
    "from nltk.stem.snowball import SnowballStemmer"
   ]
  },
  {
   "cell_type": "markdown",
   "metadata": {},
   "source": [
    "1. Converting everything to lower case\n",
    "2. Removing punctuation\n",
    "3. Removing common words (stop words)\n",
    "4. Stemming"
   ]
  },
  {
   "cell_type": "code",
   "execution_count": 22,
   "metadata": {},
   "outputs": [],
   "source": [
    "def clean_text(raw_text):\n",
    "    # Create empty list to receive result\n",
    "    clean_words = []\n",
    "    \n",
    "    # 1. Convert to lower case\n",
    "    raw_text = raw_text.lower()\n",
    "    \n",
    "    # 2. Remove punctuation\n",
    "    translator = str.maketrans('', '', punctuation)\n",
    "    raw_text = raw_text.translate(translator)\n",
    "    split_words = raw_text.split()\n",
    "    \n",
    "    # 3 & 4. Remove common words and stem words\n",
    "    stemmer = SnowballStemmer('english')\n",
    "    for word in split_words:\n",
    "        if word not in ENGLISH_STOP_WORDS:\n",
    "            stemmed_word = stemmer.stem(word)\n",
    "            clean_words.append(stemmed_word)\n",
    "            \n",
    "    return ' '.join(clean_words)"
   ]
  },
  {
   "cell_type": "code",
   "execution_count": 57,
   "metadata": {},
   "outputs": [
    {
     "name": "stdout",
     "output_type": "stream",
     "text": [
      "você\n"
     ]
    }
   ],
   "source": [
    "stemmer = SnowballStemmer('english')\n",
    "stemmed_word = stemmer.stem('você')\n",
    "print(stemmed_word)"
   ]
  },
  {
   "cell_type": "code",
   "execution_count": 23,
   "metadata": {},
   "outputs": [],
   "source": [
    "songs_df['lyrics_features']=[\" \".join(lyrics_features) for lyrics_features in songs_df['lyrics_features'].values]"
   ]
  },
  {
   "cell_type": "code",
   "execution_count": 24,
   "metadata": {},
   "outputs": [
    {
     "data": {
      "text/plain": [
       "{'aggressive',\n",
       " 'angsty',\n",
       " 'atmospheric',\n",
       " 'campy',\n",
       " 'celebratory',\n",
       " 'classy',\n",
       " 'cocky',\n",
       " 'cold',\n",
       " 'earthy',\n",
       " 'energetic',\n",
       " 'funky',\n",
       " 'gloomy',\n",
       " 'happy',\n",
       " 'hypnotic',\n",
       " 'introspective',\n",
       " 'lush',\n",
       " 'mellow',\n",
       " 'motivational',\n",
       " 'nocturnal',\n",
       " 'raw',\n",
       " 'rowdy',\n",
       " 'sad',\n",
       " 'seductive',\n",
       " 'sexual',\n",
       " 'soothing',\n",
       " 'spacey',\n",
       " 'sprightly',\n",
       " 'sweet',\n",
       " 'trashy',\n",
       " 'trippy',\n",
       " 'visceral',\n",
       " 'warm'}"
      ]
     },
     "execution_count": 24,
     "metadata": {},
     "output_type": "execute_result"
    }
   ],
   "source": [
    "moods = songs_df['moods'].tolist()\n",
    "moods_set = set(x for i in moods for x in i)\n",
    "moods_set"
   ]
  },
  {
   "cell_type": "markdown",
   "metadata": {},
   "source": [
    "# Random forest classifier bag of words ?"
   ]
  },
  {
   "cell_type": "code",
   "execution_count": 25,
   "metadata": {},
   "outputs": [],
   "source": [
    "count_vect = CountVectorizer()"
   ]
  },
  {
   "cell_type": "code",
   "execution_count": 26,
   "metadata": {},
   "outputs": [
    {
     "data": {
      "text/plain": [
       "0        oppa gangnam style gangnam style najeneun ttas...\n",
       "1        lately i ve been i ve been losing sleep dreami...\n",
       "2        party rock yeah woo let s go party rock is in ...\n",
       "3        alagamun lan weh wakun heya hanun gon alagamun...\n",
       "4        j lo the other side out my mine it s a new gen...\n",
       "5        today i don t feel like doing anything i just ...\n",
       "6        there s a fire starting in my heart reaching a...\n",
       "7        i threw a wish in the well don t ask me i ll n...\n",
       "8        now and then i think of when we were together ...\n",
       "9        don t know what for you re turning heads when ...\n",
       "10       nossa nossa assim você me mata ai se eu te peg...\n",
       "11       shine bright like a diamond shine bright like ...\n",
       "12       do you ever feel like a plastic bag drifting t...\n",
       "13       oh oh woah oh oh oh oh oh oh oh oh caught in a...\n",
       "14       girl my body don t lie red one i m out of my m...\n",
       "15       ohh ohh ohh ohh ohh oh her eyes her eyes make ...\n",
       "16       it s our party we can do what we want no drama...\n",
       "17       i heard that you re settled down that you foun...\n",
       "18       yellow diamonds in the light and i was standin...\n",
       "19       this one is for the boys with the boomin syste...\n",
       "20       bring the action when you hear this in the clu...\n",
       "21       me not working hard yea right picture that wit...\n",
       "22       i hopped off the plane at lax with my dreams i...\n",
       "23       oh na na what s my name oh na na what s my nam...\n",
       "24       when i look into your eyes i can see a love re...\n",
       "25       right from the start you were a thief you stol...\n",
       "26       seems like everybody s got a price i wonder ho...\n",
       "27       you know masivo we run the world vamos cogele ...\n",
       "28       la la la la la la la la la la la la uh yeah la...\n",
       "29       all the single ladies all the single ladies al...\n",
       "                               ...                        \n",
       "20901    let it be beautiful when i sing the last song ...\n",
       "20902    oh dj taz chorus neka dj taz that s right that...\n",
       "20903    i wanna come back coz i like it like that your...\n",
       "20904    ooh ooh ooh ooh i got a good thing i ain t gon...\n",
       "20905    a trailer for sale or rent rooms to let fifty ...\n",
       "20906    well frankie lee and judas priest they were th...\n",
       "20907    i know how to tamper with time by spending the...\n",
       "20908    he s obtuse up there she s up to something and...\n",
       "20909    i can t light no more of your darkness all my ...\n",
       "20910    we re having a party dancing to the music play...\n",
       "20911    i am a black and white ghost in a black and in...\n",
       "20912    forty days and forty nights since my baby left...\n",
       "20913    down the street the dogs are barkin and the da...\n",
       "20914    love saw it in your eyes sensed it in your smi...\n",
       "20915    i m out here a thousand miles from my home wal...\n",
       "20916    if you re traveling in the north country fair ...\n",
       "20917    charlotte church charlotte church lascia ch io...\n",
       "20918    people moving out people moving in why because...\n",
       "20919    young money ya dig a millionaire i m a young m...\n",
       "20920    oh the time will come up when the winds will s...\n",
       "20921    i m alabama bound i m alabama bound and if the...\n",
       "20922    well i ve been out here on the ledge now for s...\n",
       "20923    tonight i celebrate my love for you it seems t...\n",
       "20924    louris olson gunflint music bmi his jaw crawd ...\n",
       "20925    it s been seven hours and fifteen days since u...\n",
       "20926    go away from my window leave at your own chose...\n",
       "20927    thinking of you that s all i seem to do when y...\n",
       "20928    hey hey ladies in the place i m callin out to ...\n",
       "20929    yes yeah kayne philadelphia freeway y all know...\n",
       "20930    sup up your beer and collect your fags there s...\n",
       "Name: lyrics_features, Length: 20931, dtype: object"
      ]
     },
     "execution_count": 26,
     "metadata": {},
     "output_type": "execute_result"
    }
   ],
   "source": [
    "lyrics_df['lyrics_features']"
   ]
  },
  {
   "cell_type": "markdown",
   "metadata": {},
   "source": [
    "Now that I have my cleaned songs I want to export to txt for my doc2vec stuff."
   ]
  },
  {
   "cell_type": "code",
   "execution_count": 27,
   "metadata": {},
   "outputs": [],
   "source": [
    "from gensim.models import Doc2Vec"
   ]
  },
  {
   "cell_type": "markdown",
   "metadata": {},
   "source": [
    "put lyrics features into a list"
   ]
  },
  {
   "cell_type": "code",
   "execution_count": 28,
   "metadata": {},
   "outputs": [],
   "source": [
    "myList = []"
   ]
  },
  {
   "cell_type": "code",
   "execution_count": 65,
   "metadata": {},
   "outputs": [],
   "source": [
    "%run Doc2VecHelperFunctions.ipynb"
   ]
  },
  {
   "cell_type": "code",
   "execution_count": null,
   "metadata": {},
   "outputs": [],
   "source": [
    "\n"
   ]
  },
  {
   "cell_type": "code",
   "execution_count": 38,
   "metadata": {},
   "outputs": [],
   "source": [
    "myList = lyrics_df['lyrics_features'].tolist()"
   ]
  },
  {
   "cell_type": "code",
   "execution_count": 61,
   "metadata": {
    "scrolled": false
   },
   "outputs": [],
   "source": [
    "#myList"
   ]
  },
  {
   "cell_type": "code",
   "execution_count": 68,
   "metadata": {},
   "outputs": [
    {
     "ename": "UnicodeEncodeError",
     "evalue": "'charmap' codec can't encode characters in position 0-2: character maps to <undefined>",
     "output_type": "error",
     "traceback": [
      "\u001b[1;31m---------------------------------------------------------------------------\u001b[0m",
      "\u001b[1;31mUnicodeEncodeError\u001b[0m                        Traceback (most recent call last)",
      "\u001b[1;32m<ipython-input-68-36d41fef890a>\u001b[0m in \u001b[0;36m<module>\u001b[1;34m()\u001b[0m\n\u001b[1;32m----> 1\u001b[1;33m \u001b[0mconvert_lyrics_to_d2v\u001b[0m\u001b[1;33m(\u001b[0m\u001b[0mmyList\u001b[0m\u001b[1;33m)\u001b[0m\u001b[1;33m\u001b[0m\u001b[0m\n\u001b[0m",
      "\u001b[1;32m<ipython-input-65-c262490ad94c>\u001b[0m in \u001b[0;36mconvert_lyrics_to_d2v\u001b[1;34m(allLyricsList, model_min_count, model_window, model_vector_size, model_sample, model_negative, model_workers, model_epoch_range)\u001b[0m\n\u001b[0;32m     53\u001b[0m \u001b[1;33m\u001b[0m\u001b[0m\n\u001b[0;32m     54\u001b[0m     \u001b[1;32mfor\u001b[0m \u001b[0msong_lyrics\u001b[0m \u001b[1;32min\u001b[0m \u001b[0mallLyricsList\u001b[0m\u001b[1;33m:\u001b[0m\u001b[1;33m\u001b[0m\u001b[0m\n\u001b[1;32m---> 55\u001b[1;33m         \u001b[0mmaster_txt\u001b[0m\u001b[1;33m.\u001b[0m\u001b[0mwrite\u001b[0m\u001b[1;33m(\u001b[0m\u001b[0msong_lyrics\u001b[0m\u001b[1;33m)\u001b[0m\u001b[1;33m\u001b[0m\u001b[0m\n\u001b[0m\u001b[0;32m     56\u001b[0m         \u001b[0mmaster_txt\u001b[0m\u001b[1;33m.\u001b[0m\u001b[0mwrite\u001b[0m\u001b[1;33m(\u001b[0m\u001b[1;34m'\\n'\u001b[0m\u001b[1;33m)\u001b[0m\u001b[1;33m\u001b[0m\u001b[0m\n\u001b[0;32m     57\u001b[0m \u001b[1;33m\u001b[0m\u001b[0m\n",
      "\u001b[1;32mD:\\Users\\Admin\\Anaconda3\\lib\\encodings\\cp1252.py\u001b[0m in \u001b[0;36mencode\u001b[1;34m(self, input, final)\u001b[0m\n\u001b[0;32m     17\u001b[0m \u001b[1;32mclass\u001b[0m \u001b[0mIncrementalEncoder\u001b[0m\u001b[1;33m(\u001b[0m\u001b[0mcodecs\u001b[0m\u001b[1;33m.\u001b[0m\u001b[0mIncrementalEncoder\u001b[0m\u001b[1;33m)\u001b[0m\u001b[1;33m:\u001b[0m\u001b[1;33m\u001b[0m\u001b[0m\n\u001b[0;32m     18\u001b[0m     \u001b[1;32mdef\u001b[0m \u001b[0mencode\u001b[0m\u001b[1;33m(\u001b[0m\u001b[0mself\u001b[0m\u001b[1;33m,\u001b[0m \u001b[0minput\u001b[0m\u001b[1;33m,\u001b[0m \u001b[0mfinal\u001b[0m\u001b[1;33m=\u001b[0m\u001b[1;32mFalse\u001b[0m\u001b[1;33m)\u001b[0m\u001b[1;33m:\u001b[0m\u001b[1;33m\u001b[0m\u001b[0m\n\u001b[1;32m---> 19\u001b[1;33m         \u001b[1;32mreturn\u001b[0m \u001b[0mcodecs\u001b[0m\u001b[1;33m.\u001b[0m\u001b[0mcharmap_encode\u001b[0m\u001b[1;33m(\u001b[0m\u001b[0minput\u001b[0m\u001b[1;33m,\u001b[0m\u001b[0mself\u001b[0m\u001b[1;33m.\u001b[0m\u001b[0merrors\u001b[0m\u001b[1;33m,\u001b[0m\u001b[0mencoding_table\u001b[0m\u001b[1;33m)\u001b[0m\u001b[1;33m[\u001b[0m\u001b[1;36m0\u001b[0m\u001b[1;33m]\u001b[0m\u001b[1;33m\u001b[0m\u001b[0m\n\u001b[0m\u001b[0;32m     20\u001b[0m \u001b[1;33m\u001b[0m\u001b[0m\n\u001b[0;32m     21\u001b[0m \u001b[1;32mclass\u001b[0m \u001b[0mIncrementalDecoder\u001b[0m\u001b[1;33m(\u001b[0m\u001b[0mcodecs\u001b[0m\u001b[1;33m.\u001b[0m\u001b[0mIncrementalDecoder\u001b[0m\u001b[1;33m)\u001b[0m\u001b[1;33m:\u001b[0m\u001b[1;33m\u001b[0m\u001b[0m\n",
      "\u001b[1;31mUnicodeEncodeError\u001b[0m: 'charmap' codec can't encode characters in position 0-2: character maps to <undefined>"
     ]
    }
   ],
   "source": [
    "convert_lyrics_to_d2v(myList)"
   ]
  },
  {
   "cell_type": "markdown",
   "metadata": {},
   "source": [
    "# Count Vectorizor"
   ]
  },
  {
   "cell_type": "code",
   "execution_count": 40,
   "metadata": {},
   "outputs": [],
   "source": [
    "bag_of_words = count_vect.fit_transform(lyrics_df['lyrics_features'])"
   ]
  },
  {
   "cell_type": "code",
   "execution_count": 41,
   "metadata": {},
   "outputs": [],
   "source": [
    "moods = lyrics_df['moods']"
   ]
  },
  {
   "cell_type": "code",
   "execution_count": 42,
   "metadata": {},
   "outputs": [],
   "source": [
    "X = bag_of_words\n",
    "y = moods\n",
    "\n",
    "X_train, X_test, y_train, y_test = train_test_split(X, y, test_size=0.1, random_state=42)"
   ]
  },
  {
   "cell_type": "markdown",
   "metadata": {},
   "source": [
    "rfc = RandomForestClassifier(n_estimators=10, min_samples_split=2, max_features='log2')\n",
    "rfc.fit(X_train, y_train)\n",
    "rfc_predictions = rfc.predict(X_test)\n",
    "print(accuracy_score(y_test, rfc_predictions)) => 0.03390639923591213"
   ]
  },
  {
   "cell_type": "markdown",
   "metadata": {},
   "source": [
    "RandomForestClassifier(n_estimators=10, criterion=’gini’, max_depth=None, min_samples_split=2, min_samples_leaf=1, min_weight_fraction_leaf=0.0, max_features=’auto’, max_leaf_nodes=None, min_impurity_decrease=0.0, min_impurity_split=None, bootstrap=True, oob_score=False, n_jobs=1, random_state=None, verbose=0, warm_start=False, class_weight=None)"
   ]
  },
  {
   "cell_type": "markdown",
   "metadata": {},
   "source": [
    "rfc = RandomForestClassifier(n_estimators=10, criterion='entropy', min_samples_split=2, max_features='auto')\n",
    "rfc.fit(X_train, y_train)\n",
    "rfc_predictions = rfc.predict(X_test)\n",
    "print(accuracy_score(y_test, rfc_predictions))  => 0.050620821394460364"
   ]
  },
  {
   "cell_type": "markdown",
   "metadata": {},
   "source": [
    "rfc = RandomForestClassifier(n_estimators=10, criterion='gini', min_samples_split=2, max_features='auto')\n",
    "rfc.fit(X_train, y_train)\n",
    "rfc_predictions = rfc.predict(X_test)\n",
    "print(accuracy_score(y_test, rfc_predictions)) = > 0.059694364851957976\n"
   ]
  },
  {
   "cell_type": "markdown",
   "metadata": {},
   "source": [
    "rfc = RandomForestClassifier(n_estimators=10, criterion='gini', min_samples_split=2, max_features=None)\n",
    "rfc.fit(X_train, y_train)\n",
    "rfc_predictions = rfc.predict(X_test)\n",
    "print(accuracy_score(y_test, rfc_predictions))"
   ]
  },
  {
   "cell_type": "markdown",
   "metadata": {},
   "source": [
    "rfc = RandomForestClassifier(n_estimators=10, criterion='gini', min_samples_split=2, max_features='log2')\n",
    "rfc.fit(X_train, y_train)\n",
    "rfc_predictions = rfc.predict(X_test)\n",
    "print(accuracy_score(y_test, rfc_predictions))"
   ]
  },
  {
   "cell_type": "markdown",
   "metadata": {},
   "source": [
    "rfc = RandomForestClassifier(n_estimators=10, criterion='entropy', min_samples_split=2, max_features='log2')\n",
    "rfc.fit(X_train, y_train)\n",
    "rfc_predictions = rfc.predict(X_test)\n",
    "print(accuracy_score(y_test, rfc_predictions)) => 0.04345749761222541"
   ]
  },
  {
   "cell_type": "markdown",
   "metadata": {},
   "source": [
    "# TfidfVectorizer"
   ]
  },
  {
   "cell_type": "code",
   "execution_count": 43,
   "metadata": {},
   "outputs": [],
   "source": [
    "tfidf = TfidfVectorizer()"
   ]
  },
  {
   "cell_type": "code",
   "execution_count": 45,
   "metadata": {},
   "outputs": [],
   "source": [
    "bagofwordstfidf = tfidf.fit_transform(lyrics_df['lyrics_features'])"
   ]
  },
  {
   "cell_type": "code",
   "execution_count": 48,
   "metadata": {},
   "outputs": [
    {
     "name": "stdout",
     "output_type": "stream",
     "text": [
      "0.10649474689589303\n"
     ]
    }
   ],
   "source": [
    "X_2 = bagofwordstfidf\n",
    "y = moods\n",
    "X_train, X_test, y_train, y_test = train_test_split(X_2,y,test_size=0.1,random_state=42)\n",
    "\n",
    "lr = LogisticRegression()\n",
    "lr.fit(X_train,y_train)\n",
    "predictions2 = lr.predict(X_test)\n",
    "print(accuracy_score(y_test,predictions2)) => 0.10649474689589303"
   ]
  },
  {
   "cell_type": "code",
   "execution_count": 29,
   "metadata": {},
   "outputs": [],
   "source": [
    "for lyrics_features in songs_df.columns:\n",
    "    songs_df['lyrics_features'].to_csv(lyrics_features + '.txt', index=False)"
   ]
  },
  {
   "cell_type": "markdown",
   "metadata": {},
   "source": [
    "This just saved everything... into txt file no index...?... no organisation.. must compare to exersice"
   ]
  },
  {
   "cell_type": "code",
   "execution_count": null,
   "metadata": {},
   "outputs": [],
   "source": []
  },
  {
   "cell_type": "markdown",
   "metadata": {},
   "source": [
    "# GridsearchCV"
   ]
  },
  {
   "cell_type": "code",
   "execution_count": 49,
   "metadata": {},
   "outputs": [],
   "source": [
    "param_grid={}"
   ]
  },
  {
   "cell_type": "code",
   "execution_count": 50,
   "metadata": {},
   "outputs": [
    {
     "data": {
      "text/plain": [
       "{'C': [0.1, 1, 10, 100, 1000],\n",
       " 'gamma': [1, 0.1, 0.01, 0.001, 0.0001],\n",
       " 'kernel': ['rbf']}"
      ]
     },
     "execution_count": 50,
     "metadata": {},
     "output_type": "execute_result"
    }
   ],
   "source": [
    "param_grid['C']=[0.1,1, 10, 100, 1000]\n",
    "param_grid['gamma']=[1,0.1,0.01,0.001,0.0001]\n",
    "param_grid['kernel']= ['rbf']\n",
    "param_grid"
   ]
  },
  {
   "cell_type": "code",
   "execution_count": null,
   "metadata": {},
   "outputs": [],
   "source": []
  },
  {
   "cell_type": "code",
   "execution_count": 52,
   "metadata": {},
   "outputs": [],
   "source": [
    "from sklearn.svm import SVC\n",
    "model = SVC()"
   ]
  },
  {
   "cell_type": "code",
   "execution_count": 58,
   "metadata": {},
   "outputs": [],
   "source": [
    "grid = GridSearchCV(model, param_grid, verbose=3)"
   ]
  },
  {
   "cell_type": "code",
   "execution_count": 53,
   "metadata": {},
   "outputs": [
    {
     "data": {
      "text/plain": [
       "SVC(C=1.0, cache_size=200, class_weight=None, coef0=0.0,\n",
       "  decision_function_shape='ovr', degree=3, gamma='auto', kernel='rbf',\n",
       "  max_iter=-1, probability=False, random_state=None, shrinking=True,\n",
       "  tol=0.001, verbose=False)"
      ]
     },
     "execution_count": 53,
     "metadata": {},
     "output_type": "execute_result"
    }
   ],
   "source": [
    "model.fit(X_train, y_train)"
   ]
  },
  {
   "cell_type": "code",
   "execution_count": 54,
   "metadata": {},
   "outputs": [
    {
     "data": {
      "text/plain": [
       "array([[0, 0, 0, ..., 0, 0, 0],\n",
       "       [0, 0, 0, ..., 0, 0, 0],\n",
       "       [0, 0, 0, ..., 0, 0, 0],\n",
       "       ...,\n",
       "       [0, 0, 0, ..., 0, 0, 0],\n",
       "       [0, 0, 0, ..., 0, 0, 0],\n",
       "       [0, 0, 0, ..., 0, 0, 0]], dtype=int64)"
      ]
     },
     "execution_count": 54,
     "metadata": {},
     "output_type": "execute_result"
    }
   ],
   "source": [
    "jeanpierre = model.predict(X_test)\n",
    "from sklearn.metrics import confusion_matrix, classification_report\n",
    "confusion_matrix(y_test, jeanpierre)"
   ]
  },
  {
   "cell_type": "code",
   "execution_count": 55,
   "metadata": {},
   "outputs": [
    {
     "name": "stdout",
     "output_type": "stream",
     "text": [
      "[[0 0 0 ... 0 0 0]\n",
      " [0 0 0 ... 0 0 0]\n",
      " [0 0 0 ... 0 0 0]\n",
      " ...\n",
      " [0 0 0 ... 0 0 0]\n",
      " [0 0 0 ... 0 0 0]\n",
      " [0 0 0 ... 0 0 0]]\n"
     ]
    }
   ],
   "source": [
    "print(confusion_matrix(y_test, jeanpierre))"
   ]
  },
  {
   "cell_type": "code",
   "execution_count": 56,
   "metadata": {},
   "outputs": [
    {
     "name": "stdout",
     "output_type": "stream",
     "text": [
      "                                                                    precision    recall  f1-score   support\n",
      "\n",
      "                                                        aggressive       0.00      0.00      0.00        59\n",
      "                                                   aggressive, raw       0.00      0.00      0.00         2\n",
      "                                                 aggressive, rowdy       0.00      0.00      0.00         5\n",
      "                                              aggressive, visceral       0.00      0.00      0.00         5\n",
      "                                                            angsty       0.00      0.00      0.00        31\n",
      "                                                angsty, aggressive       0.00      0.00      0.00        31\n",
      "                                         angsty, aggressive, rowdy       0.00      0.00      0.00         6\n",
      "                                    angsty, aggressive, rowdy, raw       0.00      0.00      0.00         5\n",
      "                                        angsty, aggressive, trashy       0.00      0.00      0.00         5\n",
      "                                   angsty, aggressive, trashy, raw       0.00      0.00      0.00         2\n",
      "                         angsty, aggressive, trashy, visceral, raw       0.00      0.00      0.00         8\n",
      "                                                angsty, rowdy, raw       0.00      0.00      0.00         6\n",
      "                                                       atmospheric       0.00      0.00      0.00         8\n",
      "                                     atmospheric, happy, sprightly       0.00      0.00      0.00         2\n",
      "                                   atmospheric, hypnotic, soothing       0.00      0.00      0.00         1\n",
      "                        atmospheric, introspective, sad, nocturnal       0.00      0.00      0.00         4\n",
      "                      atmospheric, introspective, soothing, mellow       0.00      0.00      0.00         9\n",
      "atmospheric, introspective, soothing, sad, nocturnal, mellow, lush       0.00      0.00      0.00         1\n",
      "                                                 atmospheric, lush       0.00      0.00      0.00         2\n",
      "                                               atmospheric, mellow       0.00      0.00      0.00         8\n",
      "                                         atmospheric, mellow, lush       0.00      0.00      0.00         1\n",
      "                                      atmospheric, nocturnal, lush       0.00      0.00      0.00         1\n",
      "                                                  atmospheric, sad       0.00      0.00      0.00         7\n",
      "                                       atmospheric, sad, nocturnal       0.00      0.00      0.00         4\n",
      "                                            atmospheric, seductive       0.00      0.00      0.00         4\n",
      "    atmospheric, seductive, sad, nocturnal, hypnotic, mellow, lush       0.00      0.00      0.00         2\n",
      "                                             atmospheric, soothing       0.00      0.00      0.00         2\n",
      "                                     atmospheric, soothing, mellow       0.00      0.00      0.00         2\n",
      "         atmospheric, soothing, seductive, nocturnal, mellow, lush       0.00      0.00      0.00         6\n",
      "                                               atmospheric, spacey       0.00      0.00      0.00         5\n",
      "                                         atmospheric, spacey, lush       0.00      0.00      0.00         3\n",
      "                                    atmospheric, spacey, nocturnal       0.00      0.00      0.00         4\n",
      "                              atmospheric, trippy, seductive, lush       0.00      0.00      0.00         2\n",
      "                         atmospheric, trippy, seductive, nocturnal       0.00      0.00      0.00         4\n",
      "                                       atmospheric, warm, soothing       0.00      0.00      0.00         4\n",
      "                                                             campy       0.00      0.00      0.00        27\n",
      "                                           campy, happy, sprightly       0.00      0.00      0.00         1\n",
      "                                                     campy, mellow       0.00      0.00      0.00         4\n",
      "                                               campy, mellow, warm       0.00      0.00      0.00         2\n",
      "                                               campy, motivational       0.00      0.00      0.00         1\n",
      "                                                      campy, sweet       0.00      0.00      0.00         2\n",
      "                                                       celebratory       0.00      0.00      0.00        35\n",
      "                                                celebratory, campy       0.00      0.00      0.00         6\n",
      "                                          celebratory, campy, lush       0.00      0.00      0.00         7\n",
      "                                                 celebratory, lush       0.00      0.00      0.00         2\n",
      "                                                  celebratory, raw       0.00      0.00      0.00         2\n",
      "                                                celebratory, rowdy       0.00      0.00      0.00         9\n",
      "                                                            classy       0.00      0.00      0.00         5\n",
      "                                                     classy, campy       0.00      0.00      0.00         2\n",
      "                                                      classy, lush       0.00      0.00      0.00         2\n",
      "                                                    classy, mellow       0.00      0.00      0.00         3\n",
      "                                                 classy, nocturnal       0.00      0.00      0.00         3\n",
      "                                           classy, nocturnal, lush       0.00      0.00      0.00         5\n",
      "                                   classy, seductive, mellow, lush       0.00      0.00      0.00         5\n",
      "                                                 classy, sprightly       0.00      0.00      0.00         6\n",
      "                                           classy, sprightly, lush       0.00      0.00      0.00         1\n",
      "                                   classy, sprightly, mellow, lush       0.00      0.00      0.00         1\n",
      "                                                             cocky       0.00      0.00      0.00        28\n",
      "                                                 cocky, aggressive       0.00      0.00      0.00         7\n",
      "                                          cocky, aggressive, rowdy       0.00      0.00      0.00         5\n",
      "                                         cocky, aggressive, trashy       0.00      0.00      0.00         3\n",
      "                               cocky, angsty, aggressive, visceral       0.00      0.00      0.00         7\n",
      "                                         cocky, celebratory, campy       0.00      0.00      0.00         2\n",
      "                                         cocky, celebratory, funky       0.00      0.00      0.00         3\n",
      "                                         cocky, celebratory, rowdy       0.00      0.00      0.00         1\n",
      "                                         cocky, funky, celebratory       0.00      0.00      0.00         2\n",
      "                                                       cocky, lush       0.00      0.00      0.00         1\n",
      "                                               cocky, motivational       0.00      0.00      0.00        11\n",
      "                                                      cocky, rowdy       0.00      0.00      0.00         6\n",
      "                                              cocky, sexual, rowdy       0.00      0.00      0.00         4\n",
      "                                                     cocky, trashy       0.00      0.00      0.00         1\n",
      "                                              cocky, trashy, rowdy       0.00      0.00      0.00         3\n",
      "                                             cocky, trashy, sexual       0.00      0.00      0.00         2\n",
      "                                                   cocky, visceral       0.00      0.00      0.00         4\n",
      "                                     cocky, visceral, motivational       0.00      0.00      0.00         4\n",
      "                                                              cold       0.00      0.00      0.00        20\n",
      "                                                  cold, aggressive       0.00      0.00      0.00         9\n",
      "                                              cold, angsty, trashy       0.00      0.00      0.00         3\n",
      "                                                 cold, atmospheric       0.00      0.00      0.00         3\n",
      "                                            cold, atmospheric, sad       0.00      0.00      0.00         5\n",
      "                                                       cold, campy       0.00      0.00      0.00         1\n",
      "                                               cold, introspective       0.00      0.00      0.00         6\n",
      "                                                   cold, nocturnal       0.00      0.00      0.00         3\n",
      "                                         cold, visceral, nocturnal       0.00      0.00      0.00         3\n",
      "                                                            earthy       0.00      0.00      0.00        21\n",
      "                                  earthy, atmospheric, trippy, raw       0.00      0.00      0.00         3\n",
      "                                                 earthy, energetic       0.00      0.00      0.00         1\n",
      "                                      earthy, energetic, sprightly       0.00      0.00      0.00         7\n",
      "                                   earthy, introspective, soothing       0.00      0.00      0.00         3\n",
      "                           earthy, introspective, soothing, mellow       0.00      0.00      0.00         3\n",
      "                                                    earthy, mellow       0.00      0.00      0.00        10\n",
      "                                                       earthy, raw       0.00      0.00      0.00         6\n",
      "                                                  earthy, soothing       0.00      0.00      0.00         5\n",
      "                                                 earthy, sprightly       0.00      0.00      0.00         3\n",
      "                                              earthy, warm, mellow       0.00      0.00      0.00         3\n",
      "                                                         energetic       0.00      0.00      0.00        37\n",
      "                                 energetic, aggressive, rowdy, raw       0.00      0.00      0.00         2\n",
      "                                   energetic, aggressive, visceral       0.00      0.00      0.00         7\n",
      "                                                 energetic, angsty       0.00      0.00      0.00        13\n",
      "                             energetic, angsty, aggressive, trashy       0.00      0.00      0.00         3\n",
      "                                          energetic, angsty, rowdy       0.00      0.00      0.00        16\n",
      "                                            energetic, celebratory       0.00      0.00      0.00        23\n",
      "                                energetic, cocky, visceral, sexual       0.00      0.00      0.00         2\n",
      "                                                   energetic, cold       0.00      0.00      0.00         8\n",
      "                           energetic, cold, atmospheric, nocturnal       0.00      0.00      0.00         1\n",
      "                                         energetic, cold, visceral       0.00      0.00      0.00         1\n",
      "                              energetic, cold, visceral, nocturnal       0.00      0.00      0.00         1\n",
      "                                           energetic, motivational       0.00      0.00      0.00        10\n",
      "                                              energetic, nocturnal       0.00      0.00      0.00         3\n",
      "                                                    energetic, raw       0.00      0.00      0.00         6\n",
      "                                                  energetic, rowdy       0.00      0.00      0.00         7\n",
      "                                    energetic, rowdy, motivational       0.00      0.00      0.00         3\n",
      "                                             energetic, rowdy, raw       0.00      0.00      0.00         3\n",
      "                                   energetic, sprightly, seductive       0.00      0.00      0.00         2\n",
      "                                               energetic, visceral       0.00      0.00      0.00        12\n",
      "                                 energetic, visceral, motivational       0.00      0.00      0.00         4\n",
      "                                                             funky       0.00      0.00      0.00        77\n",
      "                                                funky, celebratory       0.00      0.00      0.00         8\n",
      "                                    funky, classy, nocturnal, lush       0.00      0.00      0.00         1\n",
      "                                                      funky, cocky       0.00      0.00      0.00         4\n",
      "                                                funky, cold, cocky       0.00      0.00      0.00         2\n",
      "                                                  funky, energetic       0.00      0.00      0.00         4\n",
      "                                           funky, happy, energetic       0.00      0.00      0.00         2\n",
      "                                           funky, happy, sprightly       0.00      0.00      0.00         1\n",
      "                                      funky, introspective, mellow       0.00      0.00      0.00         3\n",
      "                                                       funky, lush       0.00      0.00      0.00         2\n",
      "                                                     funky, mellow       0.00      0.00      0.00        14\n",
      "                                            funky, nocturnal, lush       0.00      0.00      0.00         2\n",
      "                                          funky, nocturnal, mellow       0.00      0.00      0.00         4\n",
      "                                                        funky, raw       0.00      0.00      0.00         1\n",
      "                                                  funky, seductive       0.00      0.00      0.00         2\n",
      "                                                     funky, trippy       0.00      0.00      0.00         2\n",
      "                                                   funky, visceral       0.00      0.00      0.00         6\n",
      "                                                       funky, warm       0.00      0.00      0.00        26\n",
      "                                            funky, warm, seductive       0.00      0.00      0.00         1\n",
      "                                                            gloomy       0.00      0.00      0.00         9\n",
      "                                                    gloomy, angsty       0.00      0.00      0.00         3\n",
      "                                            gloomy, angsty, spacey       0.00      0.00      0.00         1\n",
      "                                          gloomy, atmospheric, sad       0.00      0.00      0.00         3\n",
      "                 gloomy, atmospheric, sad, nocturnal, mellow, lush       0.00      0.00      0.00         3\n",
      "                     gloomy, atmospheric, soothing, raw, nocturnal       0.00      0.00      0.00         1\n",
      "                                                gloomy, cocky, raw       0.00      0.00      0.00         5\n",
      "                                                      gloomy, cold       0.00      0.00      0.00         7\n",
      "                      gloomy, cold, atmospheric, spacey, nocturnal       0.00      0.00      0.00         1\n",
      "                                    gloomy, cold, visceral, spacey       0.00      0.00      0.00         4\n",
      "                                               gloomy, earthy, raw       0.00      0.00      0.00         1\n",
      "                                        gloomy, introspective, sad       0.00      0.00      0.00         6\n",
      "                                               gloomy, mellow, sad       0.00      0.00      0.00         2\n",
      "                                                       gloomy, raw       0.00      0.00      0.00         1\n",
      "                                        gloomy, rowdy, raw, trashy       0.00      0.00      0.00         4\n",
      "                                  gloomy, seductive, visceral, raw       0.00      0.00      0.00         1\n",
      "                                     gloomy, soothing, sad, mellow       0.00      0.00      0.00        13\n",
      "                                          gloomy, visceral, trippy       0.00      0.00      0.00         3\n",
      "                                                             happy       0.00      0.00      0.00        37\n",
      "                                                happy, celebratory       0.00      0.00      0.00         9\n",
      "                                         happy, celebratory, campy       0.00      0.00      0.00         4\n",
      "                                         happy, celebratory, sweet       0.00      0.00      0.00         4\n",
      "                                  happy, cocky, celebratory, rowdy       0.00      0.00      0.00         7\n",
      "                                             happy, earthy, trippy       0.00      0.00      0.00         4\n",
      "                                                  happy, energetic       0.00      0.00      0.00         3\n",
      "                                           happy, energetic, campy       0.00      0.00      0.00         5\n",
      "                                     happy, energetic, celebratory       0.00      0.00      0.00         6\n",
      "                       happy, energetic, celebratory, motivational       0.00      0.00      0.00         3\n",
      "                                happy, energetic, celebratory, raw       0.00      0.00      0.00         2\n",
      "                       happy, energetic, cocky, celebratory, rowdy       0.00      0.00      0.00         4\n",
      "                                             happy, energetic, raw       0.00      0.00      0.00         3\n",
      "                                            happy, energetic, warm       0.00      0.00      0.00         1\n",
      "                                                      happy, funky       0.00      0.00      0.00         6\n",
      "                                         happy, funky, celebratory       0.00      0.00      0.00         4\n",
      "                                   happy, funky, celebratory, warm       0.00      0.00      0.00         2\n",
      "                                                happy, funky, warm       0.00      0.00      0.00         2\n",
      "                                                     happy, mellow       0.00      0.00      0.00         5\n",
      "                                                      happy, rowdy       0.00      0.00      0.00        11\n",
      "                                                  happy, sprightly       0.00      0.00      0.00         8\n",
      "                                                      happy, sweet       0.00      0.00      0.00        14\n",
      "                                                     happy, trippy       0.00      0.00      0.00         1\n",
      "                                                       happy, warm       0.00      0.00      0.00         4\n",
      "                                               happy, warm, mellow       0.00      0.00      0.00         7\n",
      "                                                          hypnotic       0.00      0.00      0.00        10\n",
      "                                             hypnotic, atmospheric       0.00      0.00      0.00         2\n",
      "                                     hypnotic, atmospheric, spacey       0.00      0.00      0.00         1\n",
      "                                        hypnotic, cocky, nocturnal       0.00      0.00      0.00         2\n",
      "                    hypnotic, cold, atmospheric, spacey, nocturnal       0.00      0.00      0.00         4\n",
      "                                               hypnotic, energetic       0.00      0.00      0.00         1\n",
      "                                                hypnotic, soothing       0.00      0.00      0.00         1\n",
      "                                                hypnotic, visceral       0.00      0.00      0.00         1\n",
      "                                                     introspective       0.00      0.00      0.00         7\n",
      "                          introspective, atmospheric, mellow, lush       0.00      0.00      0.00         5\n",
      "                                             introspective, earthy       0.00      0.00      0.00         7\n",
      "                                       introspective, earthy, warm       0.00      0.00      0.00         3\n",
      "                                              introspective, funky       0.00      0.00      0.00        18\n",
      "                                   introspective, funky, seductive       0.00      0.00      0.00         8\n",
      "                                             introspective, mellow       0.00      0.00      0.00         3\n",
      "                                       introspective, mellow, lush       0.00      0.00      0.00        10\n",
      "                                                introspective, raw       0.00      0.00      0.00         2\n",
      "                                                introspective, sad       0.00      0.00      0.00         6\n",
      "                                          introspective, sad, lush       0.00      0.00      0.00         4\n",
      "                                        introspective, sad, mellow       0.00      0.00      0.00        28\n",
      "                                     introspective, sad, nocturnal       0.00      0.00      0.00         3\n",
      "                                           introspective, soothing       0.00      0.00      0.00         8\n",
      "                                      introspective, soothing, sad       0.00      0.00      0.00         8\n",
      "                              introspective, soothing, sad, mellow       0.00      0.00      0.00         3\n",
      "                           introspective, sweet, seductive, mellow       0.00      0.00      0.00         8\n",
      "                                 introspective, warm, mellow, lush       0.00      0.00      0.00         2\n",
      "                                                              lush       0.00      0.00      0.00        17\n",
      "                                                            mellow       0.00      0.00      0.00        78\n",
      "                                                      motivational       0.00      0.00      0.00        40\n",
      "                                                         nocturnal       0.00      0.00      0.00        10\n",
      "                                                   nocturnal, lush       0.00      0.00      0.00         1\n",
      "                                                               raw       0.00      0.00      0.00        27\n",
      "                                                       raw, mellow       0.00      0.00      0.00         3\n",
      "                                                             rowdy       0.00      0.00      0.00        57\n",
      "                                                       rowdy, lush       0.00      0.00      0.00         3\n",
      "                                                        rowdy, raw       0.00      0.00      0.00         9\n",
      "                                              rowdy, visceral, raw       0.00      0.00      0.00         9\n",
      "                                                               sad       0.00      0.00      0.00         8\n",
      "                                                       sad, mellow       0.00      0.00      0.00        11\n",
      "                                                    sad, nocturnal       0.00      0.00      0.00         7\n",
      "                                                         seductive       0.00      0.00      0.00        36\n",
      "                                              seductive, nocturnal       0.00      0.00      0.00         7\n",
      "                                        seductive, nocturnal, lush       0.00      0.00      0.00         4\n",
      "                                                    seductive, raw       0.00      0.00      0.00         3\n",
      "                         seductive, sad, classy, nocturnal, mellow       0.00      0.00      0.00         1\n",
      "                                 seductive, sad, nocturnal, mellow       0.00      0.00      0.00         1\n",
      "                                                            sexual       0.00      0.00      0.00        22\n",
      "                                                      sexual, lush       0.00      0.00      0.00         2\n",
      "                                                 sexual, nocturnal       0.00      0.00      0.00         8\n",
      "                                                 sexual, seductive       0.00      0.00      0.00         6\n",
      "                                sexual, seductive, nocturnal, lush       0.00      0.00      0.00         2\n",
      "                                                          soothing       0.00      0.00      0.00        39\n",
      "                                 soothing, classy, nocturnal, lush       0.00      0.00      0.00         4\n",
      "                                                  soothing, mellow       0.00      0.00      0.00         6\n",
      "                                               soothing, nocturnal       0.00      0.00      0.00         6\n",
      "                                                     soothing, sad       0.00      0.00      0.00         4\n",
      "                                               soothing, seductive       0.00      0.00      0.00         3\n",
      "                                    soothing, seductive, nocturnal       0.00      0.00      0.00         2\n",
      "                                                            spacey       0.00      0.00      0.00         2\n",
      "                                          spacey, hypnotic, mellow       0.00      0.00      0.00         2\n",
      "                          spacey, introspective, sad, mellow, lush       0.00      0.00      0.00         1\n",
      "                                                    spacey, mellow       0.00      0.00      0.00         3\n",
      "                                              spacey, mellow, lush       0.00      0.00      0.00         3\n",
      "                                           spacey, nocturnal, lush       0.00      0.00      0.00         1\n",
      "                                         spacey, seductive, mellow       0.00      0.00      0.00         8\n",
      "                                                         sprightly       0.05      1.00      0.09        96\n",
      "                                                    sprightly, raw       0.00      0.00      0.00        13\n",
      "                                                             sweet       0.00      0.00      0.00        18\n",
      "                                                       sweet, lush       0.00      0.00      0.00         5\n",
      "                                                     sweet, mellow       0.00      0.00      0.00         5\n",
      "                                                  sweet, seductive       0.00      0.00      0.00         4\n",
      "                                       sweet, seductive, nocturnal       0.00      0.00      0.00         2\n",
      "                                                  sweet, sprightly       0.00      0.00      0.00        10\n",
      "                                            sweet, sprightly, lush       0.00      0.00      0.00         2\n",
      "                                                            trashy       0.00      0.00      0.00         1\n",
      "                                                     trashy, rowdy       0.00      0.00      0.00         6\n",
      "                                                    trashy, sexual       0.00      0.00      0.00         5\n",
      "                                                            trippy       0.00      0.00      0.00        48\n",
      "                     trippy, atmospheric, spacey, hypnotic, mellow       0.00      0.00      0.00         2\n",
      "                                                      trippy, lush       0.00      0.00      0.00         3\n",
      "                                                    trippy, mellow       0.00      0.00      0.00         1\n",
      "                                                    trippy, spacey       0.00      0.00      0.00         4\n",
      "                                                          visceral       0.00      0.00      0.00         1\n",
      "                                       visceral, aggressive, rowdy       0.00      0.00      0.00         1\n",
      "                                            visceral, motivational       0.00      0.00      0.00         5\n",
      "                                     visceral, rowdy, motivational       0.00      0.00      0.00         1\n",
      "                                               visceral, seductive       0.00      0.00      0.00         5\n",
      "                            visceral, spacey, seductive, nocturnal       0.00      0.00      0.00         2\n",
      "                                                              warm       0.00      0.00      0.00        40\n",
      "                                            warm, happy, sprightly       0.00      0.00      0.00         8\n",
      "                                    warm, happy, sprightly, mellow       0.00      0.00      0.00         4\n",
      "                                                        warm, lush       0.00      0.00      0.00         5\n",
      "                                                      warm, mellow       0.00      0.00      0.00         6\n",
      "                                                         warm, sad       0.00      0.00      0.00         2\n",
      "                                                   warm, seductive       0.00      0.00      0.00         7\n",
      "                                                    warm, soothing       0.00      0.00      0.00         7\n",
      "                                            warm, soothing, mellow       0.00      0.00      0.00         1\n",
      "                                                   warm, sprightly       0.00      0.00      0.00         5\n",
      "                                         warm, sweet, motivational       0.00      0.00      0.00         6\n",
      "                                                      warm, trippy       0.00      0.00      0.00         8\n",
      "\n",
      "                                                       avg / total       0.00      0.05      0.00      2094\n",
      "\n"
     ]
    },
    {
     "name": "stderr",
     "output_type": "stream",
     "text": [
      "D:\\Users\\Admin\\Anaconda3\\lib\\site-packages\\sklearn\\metrics\\classification.py:1135: UndefinedMetricWarning: Precision and F-score are ill-defined and being set to 0.0 in labels with no predicted samples.\n",
      "  'precision', 'predicted', average, warn_for)\n"
     ]
    }
   ],
   "source": [
    "print(classification_report(y_test, jeanpierre))"
   ]
  },
  {
   "cell_type": "code",
   "execution_count": null,
   "metadata": {},
   "outputs": [
    {
     "name": "stdout",
     "output_type": "stream",
     "text": [
      "Fitting 3 folds for each of 25 candidates, totalling 75 fits\n"
     ]
    },
    {
     "name": "stderr",
     "output_type": "stream",
     "text": [
      "D:\\Users\\Admin\\Anaconda3\\lib\\site-packages\\sklearn\\model_selection\\_split.py:605: Warning: The least populated class in y has only 1 members, which is too few. The minimum number of members in any class cannot be less than n_splits=3.\n",
      "  % (min_groups, self.n_splits)), Warning)\n"
     ]
    },
    {
     "name": "stdout",
     "output_type": "stream",
     "text": [
      "[CV] C=0.1, gamma=1, kernel=rbf ......................................\n",
      "[CV]  C=0.1, gamma=1, kernel=rbf, score=0.0531015037593985, total=10.2min\n",
      "[CV] C=0.1, gamma=1, kernel=rbf ......................................\n"
     ]
    },
    {
     "name": "stderr",
     "output_type": "stream",
     "text": [
      "[Parallel(n_jobs=1)]: Done   1 out of   1 | elapsed: 13.2min remaining:    0.0s\n"
     ]
    },
    {
     "name": "stdout",
     "output_type": "stream",
     "text": [
      "[CV]  C=0.1, gamma=1, kernel=rbf, score=0.05414874980092371, total=10.2min\n",
      "[CV] C=0.1, gamma=1, kernel=rbf ......................................\n"
     ]
    },
    {
     "name": "stderr",
     "output_type": "stream",
     "text": [
      "[Parallel(n_jobs=1)]: Done   2 out of   2 | elapsed: 26.3min remaining:    0.0s\n"
     ]
    },
    {
     "name": "stdout",
     "output_type": "stream",
     "text": [
      "[CV]  C=0.1, gamma=1, kernel=rbf, score=0.056365403304178816, total=10.3min\n",
      "[CV] C=0.1, gamma=0.1, kernel=rbf ....................................\n",
      "[CV]  C=0.1, gamma=0.1, kernel=rbf, score=0.045269423558897244, total= 7.4min\n",
      "[CV] C=0.1, gamma=0.1, kernel=rbf ....................................\n",
      "[CV]  C=0.1, gamma=0.1, kernel=rbf, score=0.04586717630195891, total= 7.4min\n",
      "[CV] C=0.1, gamma=0.1, kernel=rbf ....................................\n",
      "[CV]  C=0.1, gamma=0.1, kernel=rbf, score=0.04664723032069971, total= 7.6min\n",
      "[CV] C=0.1, gamma=0.01, kernel=rbf ...................................\n",
      "[CV]  C=0.1, gamma=0.01, kernel=rbf, score=0.045269423558897244, total=72.8min\n",
      "[CV] C=0.1, gamma=0.01, kernel=rbf ...................................\n",
      "[CV]  C=0.1, gamma=0.01, kernel=rbf, score=0.04586717630195891, total= 5.7min\n",
      "[CV] C=0.1, gamma=0.01, kernel=rbf ...................................\n",
      "[CV]  C=0.1, gamma=0.01, kernel=rbf, score=0.04664723032069971, total= 7.1min\n",
      "[CV] C=0.1, gamma=0.001, kernel=rbf ..................................\n",
      "[CV]  C=0.1, gamma=0.001, kernel=rbf, score=0.045269423558897244, total= 8.1min\n",
      "[CV] C=0.1, gamma=0.001, kernel=rbf ..................................\n",
      "[CV]  C=0.1, gamma=0.001, kernel=rbf, score=0.04586717630195891, total= 9.4min\n",
      "[CV] C=0.1, gamma=0.001, kernel=rbf ..................................\n",
      "[CV]  C=0.1, gamma=0.001, kernel=rbf, score=0.04664723032069971, total= 9.3min\n",
      "[CV] C=0.1, gamma=0.0001, kernel=rbf .................................\n",
      "[CV]  C=0.1, gamma=0.0001, kernel=rbf, score=0.045269423558897244, total= 9.3min\n",
      "[CV] C=0.1, gamma=0.0001, kernel=rbf .................................\n",
      "[CV]  C=0.1, gamma=0.0001, kernel=rbf, score=0.04586717630195891, total= 9.3min\n",
      "[CV] C=0.1, gamma=0.0001, kernel=rbf .................................\n",
      "[CV]  C=0.1, gamma=0.0001, kernel=rbf, score=0.04664723032069971, total= 4.6min\n",
      "[CV] C=1, gamma=1, kernel=rbf ........................................\n",
      "[CV]  C=1, gamma=1, kernel=rbf, score=0.09335839598997493, total=11.1min\n",
      "[CV] C=1, gamma=1, kernel=rbf ........................................\n",
      "[CV]  C=1, gamma=1, kernel=rbf, score=0.10320114667940755, total=11.5min\n",
      "[CV] C=1, gamma=1, kernel=rbf ........................................\n",
      "[CV]  C=1, gamma=1, kernel=rbf, score=0.1007450599287334, total=12.2min\n",
      "[CV] C=1, gamma=0.1, kernel=rbf ......................................\n",
      "[CV]  C=1, gamma=0.1, kernel=rbf, score=0.07910401002506266, total= 8.8min\n",
      "[CV] C=1, gamma=0.1, kernel=rbf ......................................\n",
      "[CV]  C=1, gamma=0.1, kernel=rbf, score=0.07947125338429686, total= 9.1min\n",
      "[CV] C=1, gamma=0.1, kernel=rbf ......................................\n",
      "[CV]  C=1, gamma=0.1, kernel=rbf, score=0.08114674441205054, total= 9.0min\n",
      "[CV] C=1, gamma=0.01, kernel=rbf .....................................\n",
      "[CV]  C=1, gamma=0.01, kernel=rbf, score=0.045269423558897244, total= 7.2min\n",
      "[CV] C=1, gamma=0.01, kernel=rbf .....................................\n",
      "[CV]  C=1, gamma=0.01, kernel=rbf, score=0.04586717630195891, total= 7.2min\n",
      "[CV] C=1, gamma=0.01, kernel=rbf .....................................\n",
      "[CV]  C=1, gamma=0.01, kernel=rbf, score=0.04664723032069971, total= 7.2min\n",
      "[CV] C=1, gamma=0.001, kernel=rbf ....................................\n",
      "[CV]  C=1, gamma=0.001, kernel=rbf, score=0.045269423558897244, total= 5.0min\n",
      "[CV] C=1, gamma=0.001, kernel=rbf ....................................\n",
      "[CV]  C=1, gamma=0.001, kernel=rbf, score=0.04586717630195891, total= 5.0min\n",
      "[CV] C=1, gamma=0.001, kernel=rbf ....................................\n",
      "[CV]  C=1, gamma=0.001, kernel=rbf, score=0.04664723032069971, total= 5.1min\n",
      "[CV] C=1, gamma=0.0001, kernel=rbf ...................................\n",
      "[CV]  C=1, gamma=0.0001, kernel=rbf, score=0.045269423558897244, total= 9.8min\n",
      "[CV] C=1, gamma=0.0001, kernel=rbf ...................................\n",
      "[CV]  C=1, gamma=0.0001, kernel=rbf, score=0.04586717630195891, total= 8.2min\n",
      "[CV] C=1, gamma=0.0001, kernel=rbf ...................................\n",
      "[CV]  C=1, gamma=0.0001, kernel=rbf, score=0.04664723032069971, total= 7.9min\n",
      "[CV] C=10, gamma=1, kernel=rbf .......................................\n",
      "[CV]  C=10, gamma=1, kernel=rbf, score=0.09539473684210527, total=11.9min\n",
      "[CV] C=10, gamma=1, kernel=rbf .......................................\n",
      "[CV]  C=10, gamma=1, kernel=rbf, score=0.10336040770823379, total=12.8min\n",
      "[CV] C=10, gamma=1, kernel=rbf .......................................\n",
      "[CV]  C=10, gamma=1, kernel=rbf, score=0.10349854227405247, total=12.4min\n",
      "[CV] C=10, gamma=0.1, kernel=rbf .....................................\n",
      "[CV]  C=10, gamma=0.1, kernel=rbf, score=0.09805764411027569, total=10.0min\n",
      "[CV] C=10, gamma=0.1, kernel=rbf .....................................\n",
      "[CV]  C=10, gamma=0.1, kernel=rbf, score=0.10272336359292882, total=35.5min\n",
      "[CV] C=10, gamma=0.1, kernel=rbf .....................................\n",
      "[CV]  C=10, gamma=0.1, kernel=rbf, score=0.10787172011661808, total=10.5min\n",
      "[CV] C=10, gamma=0.01, kernel=rbf ....................................\n",
      "[CV]  C=10, gamma=0.01, kernel=rbf, score=0.08176691729323309, total= 8.3min\n",
      "[CV] C=10, gamma=0.01, kernel=rbf ....................................\n",
      "[CV]  C=10, gamma=0.01, kernel=rbf, score=0.08361204013377926, total= 8.5min\n",
      "[CV] C=10, gamma=0.01, kernel=rbf ....................................\n",
      "[CV]  C=10, gamma=0.01, kernel=rbf, score=0.08681567865241335, total=24.2min\n",
      "[CV] C=10, gamma=0.001, kernel=rbf ...................................\n",
      "[CV]  C=10, gamma=0.001, kernel=rbf, score=0.045269423558897244, total=14.8min\n",
      "[CV] C=10, gamma=0.001, kernel=rbf ...................................\n",
      "[CV]  C=10, gamma=0.001, kernel=rbf, score=0.04586717630195891, total=13.1min\n",
      "[CV] C=10, gamma=0.001, kernel=rbf ...................................\n"
     ]
    }
   ],
   "source": [
    "#grid.fit(X_train,y_train)"
   ]
  },
  {
   "cell_type": "code",
   "execution_count": 1,
   "metadata": {},
   "outputs": [
    {
     "ename": "NameError",
     "evalue": "name 'grid' is not defined",
     "output_type": "error",
     "traceback": [
      "\u001b[1;31m---------------------------------------------------------------------------\u001b[0m",
      "\u001b[1;31mNameError\u001b[0m                                 Traceback (most recent call last)",
      "\u001b[1;32m<ipython-input-1-28c2e4d7952c>\u001b[0m in \u001b[0;36m<module>\u001b[1;34m()\u001b[0m\n\u001b[1;32m----> 1\u001b[1;33m \u001b[0mgrid\u001b[0m\u001b[1;33m.\u001b[0m\u001b[0mbest_params_\u001b[0m\u001b[1;33m\u001b[0m\u001b[0m\n\u001b[0m",
      "\u001b[1;31mNameError\u001b[0m: name 'grid' is not defined"
     ]
    }
   ],
   "source": [
    "grid.best_params_"
   ]
  },
  {
   "cell_type": "code",
   "execution_count": null,
   "metadata": {},
   "outputs": [],
   "source": [
    "grid.best_estimator_"
   ]
  },
  {
   "cell_type": "code",
   "execution_count": null,
   "metadata": {},
   "outputs": [],
   "source": [
    "new_prediction = grid.best_estimator_.predict(X_test)"
   ]
  },
  {
   "cell_type": "code",
   "execution_count": null,
   "metadata": {},
   "outputs": [],
   "source": [
    "print(confusion_matrix(y_test,new_prediction))"
   ]
  },
  {
   "cell_type": "code",
   "execution_count": null,
   "metadata": {},
   "outputs": [],
   "source": [
    "print(classification_report(y_test, new_prediction))"
   ]
  },
  {
   "cell_type": "code",
   "execution_count": null,
   "metadata": {},
   "outputs": [],
   "source": []
  },
  {
   "cell_type": "code",
   "execution_count": null,
   "metadata": {},
   "outputs": [],
   "source": []
  }
 ],
 "metadata": {
  "kernelspec": {
   "display_name": "Python 3",
   "language": "python",
   "name": "python3"
  },
  "language_info": {
   "codemirror_mode": {
    "name": "ipython",
    "version": 3
   },
   "file_extension": ".py",
   "mimetype": "text/x-python",
   "name": "python",
   "nbconvert_exporter": "python",
   "pygments_lexer": "ipython3",
   "version": "3.6.4"
  }
 },
 "nbformat": 4,
 "nbformat_minor": 2
}
